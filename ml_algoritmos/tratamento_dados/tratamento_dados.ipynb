{
  "nbformat": 4,
  "nbformat_minor": 0,
  "metadata": {
    "colab": {
      "provenance": []
    },
    "kernelspec": {
      "name": "python3",
      "display_name": "Python 3"
    },
    "language_info": {
      "name": "python"
    }
  },
  "cells": [
    {
      "cell_type": "code",
      "source": [
        "import pandas as pd\n",
        "from sklearn.preprocessing import StandardScaler\n",
        "from sklearn.ensemble import IsolationForest"
      ],
      "metadata": {
        "id": "u7dtBGmJEt6-"
      },
      "execution_count": null,
      "outputs": []
    },
    {
      "cell_type": "markdown",
      "source": [
        "Carregando os dados de uma planilha Excel"
      ],
      "metadata": {
        "id": "af3XY-YIGyAT"
      }
    },
    {
      "cell_type": "code",
      "source": [
        "df = pd.read_excel('dados_tratados.xlsx')"
      ],
      "metadata": {
        "id": "p5MB8hQjG2ba"
      },
      "execution_count": null,
      "outputs": []
    },
    {
      "cell_type": "markdown",
      "source": [
        "Verificando e tratando valores ausentes nas colunas numéricas"
      ],
      "metadata": {
        "id": "4yLk_LCtG5Ji"
      }
    },
    {
      "cell_type": "code",
      "source": [
        "numerical_features = ['age', 'sex', 'cp', 'trestbps','chol', 'restecg', 'thalch', 'exang', 'oldpeak', 'slope', 'ca', 'thal', 'num2']\n",
        "if df[numerical_features].isnull().values.any():\n",
        "    df[numerical_features] = df[numerical_features].fillna(df[numerical_features].mean())"
      ],
      "metadata": {
        "id": "prX1gLvWG7uj"
      },
      "execution_count": null,
      "outputs": []
    },
    {
      "cell_type": "markdown",
      "source": [
        "Normalizando as colunas numericas"
      ],
      "metadata": {
        "id": "b7E0XFCsHB1D"
      }
    },
    {
      "cell_type": "code",
      "source": [
        "scaler = StandardScaler()\n",
        "df[numerical_features] = scaler.fit_transform(df[numerical_features])"
      ],
      "metadata": {
        "id": "7FLW_2q4HFMe"
      },
      "execution_count": null,
      "outputs": []
    },
    {
      "cell_type": "markdown",
      "source": [
        "Aplicando o Isolation Forest para detectar outliers"
      ],
      "metadata": {
        "id": "HATS8helHJGa"
      }
    },
    {
      "cell_type": "code",
      "source": [
        "iso_forest = IsolationForest(contamination=0.05, random_state=42)\n",
        "outliers = iso_forest.fit_predict(df[numerical_features])\n",
        "df['outliers'] = outliers"
      ],
      "metadata": {
        "id": "ZlMV9QHHHNUz"
      },
      "execution_count": null,
      "outputs": []
    },
    {
      "cell_type": "markdown",
      "source": [
        "Removendo os outliers identificados"
      ],
      "metadata": {
        "id": "rm2TK13HHPqS"
      }
    },
    {
      "cell_type": "code",
      "source": [
        "df = df[df['outliers'] == 1].drop(columns='outliers')"
      ],
      "metadata": {
        "id": "K0U4TJY9HS3S"
      },
      "execution_count": null,
      "outputs": []
    },
    {
      "cell_type": "markdown",
      "source": [
        "Verificando o resultado"
      ],
      "metadata": {
        "id": "l3XH9WdwHW38"
      }
    },
    {
      "cell_type": "code",
      "source": [
        "print(df.head())"
      ],
      "metadata": {
        "colab": {
          "base_uri": "https://localhost:8080/"
        },
        "id": "FRoHhnB-HZCq",
        "outputId": "13fbca31-38fd-4389-e3bb-f91086ebecf1"
      },
      "execution_count": null,
      "outputs": [
        {
          "output_type": "stream",
          "name": "stdout",
          "text": [
            "   id       age       sex        cp  trestbps      chol   restecg    thalch  \\\n",
            "0   1  0.948726  0.686202  2.251775  0.757525 -0.264900  1.016684  0.017197   \n",
            "1   2  1.392002  0.686202 -0.877985  1.611220  0.760415  1.016684 -1.821905   \n",
            "2   3  1.392002  0.686202 -0.877985 -0.665300 -0.342283  1.016684 -0.902354   \n",
            "3   4 -1.932564  0.686202  0.165268 -0.096170  0.063974 -0.996749  1.637359   \n",
            "4   5 -1.489288 -1.457296  1.208521 -0.096170 -0.825922  1.016684  0.980537   \n",
            "\n",
            "      exang   oldpeak     slope        ca      thal      num2  hd  \n",
            "0 -0.696631  1.305086  2.274579 -0.723095  2.461950 -0.764198   0  \n",
            "1  1.435481  0.577838  0.649113  2.503851 -0.835207  0.866450   1  \n",
            "2  1.435481  1.577804  0.649113  1.428203  0.813372  0.051126   1  \n",
            "3 -0.696631  2.395958  2.274579 -0.723095 -0.835207 -0.764198   0  \n",
            "4 -0.696631  0.486932 -0.976352 -0.723095 -0.835207 -0.764198   0  \n"
          ]
        }
      ]
    },
    {
      "cell_type": "markdown",
      "source": [
        "Gerando nova planilha para uso com os dados tratados"
      ],
      "metadata": {
        "id": "XLMyCXFuIZaq"
      }
    },
    {
      "cell_type": "code",
      "source": [
        "df.to_excel('dados_normalizados.xlsx', index=False)"
      ],
      "metadata": {
        "id": "OZjhm9x8IaxO"
      },
      "execution_count": null,
      "outputs": []
    }
  ]
}