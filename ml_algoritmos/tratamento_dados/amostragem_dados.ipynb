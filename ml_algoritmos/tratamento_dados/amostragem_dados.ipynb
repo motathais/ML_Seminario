{
  "nbformat": 4,
  "nbformat_minor": 0,
  "metadata": {
    "colab": {
      "provenance": []
    },
    "kernelspec": {
      "name": "python3",
      "display_name": "Python 3"
    },
    "language_info": {
      "name": "python"
    }
  },
  "cells": [
    {
      "cell_type": "code",
      "execution_count": null,
      "metadata": {
        "id": "Yr1ZATjoyYuN"
      },
      "outputs": [],
      "source": [
        "import pandas as pd\n",
        "from sklearn.model_selection import train_test_split\n"
      ]
    },
    {
      "cell_type": "markdown",
      "source": [
        "# Carregar os dados de um arquivo CSV"
      ],
      "metadata": {
        "id": "R0SAT4ezzRia"
      }
    },
    {
      "cell_type": "code",
      "source": [
        "data = pd.read_csv('dados_normalizados.csv')"
      ],
      "metadata": {
        "id": "YUKVvKmhzUcS"
      },
      "execution_count": null,
      "outputs": []
    },
    {
      "cell_type": "markdown",
      "source": [
        "# Separar as features e o rótulo"
      ],
      "metadata": {
        "id": "7I8QWRRlzhMs"
      }
    },
    {
      "cell_type": "code",
      "source": [
        "X = data.drop('hd', axis=1)  # 'hd' é o rótulo (label)\n",
        "y = data['hd']"
      ],
      "metadata": {
        "id": "i2Lbu7R6zoLz"
      },
      "execution_count": null,
      "outputs": []
    },
    {
      "cell_type": "markdown",
      "source": [
        "# Dividir os dados em treino e teste com amostragem estratificada"
      ],
      "metadata": {
        "id": "XRppHcEXzqp0"
      }
    },
    {
      "cell_type": "code",
      "source": [
        "X_train, X_test, y_train, y_test = train_test_split(\n",
        "    X, y, test_size=0.2, stratify=y, random_state=42\n",
        ")"
      ],
      "metadata": {
        "id": "DqAtV_grztxM"
      },
      "execution_count": null,
      "outputs": []
    },
    {
      "cell_type": "markdown",
      "source": [
        "# Recombinar features e rótulos para salvar em CSV"
      ],
      "metadata": {
        "id": "5cgSUZK3zwZ8"
      }
    },
    {
      "cell_type": "code",
      "source": [
        "train_data = pd.concat([X_train, y_train], axis=1)\n",
        "test_data = pd.concat([X_test, y_test], axis=1)"
      ],
      "metadata": {
        "id": "HBzJUX6TzykE"
      },
      "execution_count": null,
      "outputs": []
    },
    {
      "cell_type": "markdown",
      "source": [
        "Salvar as bases de treino e teste em CSV"
      ],
      "metadata": {
        "id": "iMBDdRfNz026"
      }
    },
    {
      "cell_type": "code",
      "source": [
        "train_data.to_csv('treino.csv', index=False)\n",
        "test_data.to_csv('teste.csv', index=False)\n"
      ],
      "metadata": {
        "id": "s4TbvoUWz2k5"
      },
      "execution_count": null,
      "outputs": []
    }
  ]
}